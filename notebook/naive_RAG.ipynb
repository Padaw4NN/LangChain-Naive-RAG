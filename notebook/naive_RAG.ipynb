{
 "cells": [
  {
   "cell_type": "code",
   "execution_count": 1,
   "id": "9e1f981d",
   "metadata": {},
   "outputs": [],
   "source": [
    "import os\n",
    "import dotenv\n",
    "import warnings\n",
    "\n",
    "from langchain_groq import ChatGroq\n",
    "from langchain.schema import Document\n",
    "from langchain_qdrant import QdrantVectorStore\n",
    "from langchain_core.prompts import PromptTemplate\n",
    "from langchain_core.output_parsers import StrOutputParser\n",
    "from langchain_text_splitters import RecursiveCharacterTextSplitter\n",
    "from langchain_community.embeddings.huggingface import HuggingFaceEmbeddings\n",
    "\n",
    "from qdrant_client import QdrantClient\n",
    "from qdrant_client.http.models import Distance, VectorParams"
   ]
  },
  {
   "cell_type": "code",
   "execution_count": 2,
   "id": "f8b40ebe",
   "metadata": {},
   "outputs": [],
   "source": [
    "warnings.simplefilter(\"ignore\")\n",
    "\n",
    "# Load environment variables\n",
    "dotenv.load_dotenv() # To load the Groq API from .env\n",
    "os.environ[\"TOKENIZERS_PARALLELISM\"] = \"false\" # To suppress HuggingFace warnings\n",
    "\n",
    "# Constants\n",
    "EMBED_MODEL = \"sentence-transformers/all-mpnet-base-v2\"\n",
    "\n",
    "QDRANT_PORT = 6333\n",
    "QDRANT_HOST = \"localhost\"\n",
    "QDRANT_COLLECTION = \"naive-rag\""
   ]
  },
  {
   "cell_type": "code",
   "execution_count": 3,
   "id": "d42f3652",
   "metadata": {},
   "outputs": [],
   "source": [
    "# Load the document\n",
    "doc_path = \"./data/document.txt\"\n",
    "with open(doc_path, mode='r') as f:\n",
    "    text = f.read()\n",
    "\n",
    "# Create the Document and metadata\n",
    "metadata = {\n",
    "    \"source\": \"https://www.ibm.com/br-pt/think/topics/geographic-information-system\"\n",
    "}\n",
    "\n",
    "documents = [Document(page_content=text, metadata=metadata)]"
   ]
  },
  {
   "cell_type": "code",
   "execution_count": 4,
   "id": "fafd95d6",
   "metadata": {},
   "outputs": [
    {
     "data": {
      "text/plain": [
       "'https://www.ibm.com/br-pt/think/topics/geographic-information-system'"
      ]
     },
     "execution_count": 4,
     "metadata": {},
     "output_type": "execute_result"
    }
   ],
   "source": [
    "# Visualizing\n",
    "documents[0].metadata.get(\"source\")"
   ]
  },
  {
   "cell_type": "code",
   "execution_count": 5,
   "id": "089a9b6a",
   "metadata": {},
   "outputs": [],
   "source": [
    "# Perform the splitter step\n",
    "text_splitter = RecursiveCharacterTextSplitter(\n",
    "    chunk_size=500,    # Number of character per chunk\n",
    "    chunk_overlap=100, # Number of character overlapping the next chunk\n",
    "    length_function=len\n",
    ")\n",
    "\n",
    "chunks = text_splitter.split_documents(documents)"
   ]
  },
  {
   "cell_type": "code",
   "execution_count": 6,
   "id": "abf0159f",
   "metadata": {},
   "outputs": [
    {
     "data": {
      "text/plain": [
       "'O que é SIG (sistema de informação geográfica)?\\nSistemas de informação geográfica (GIS) são sistemas computacionais que produzem visualizações conectadas de dados geoespaciais, ou seja, dados referenciados espacialmente à Terra. Além de criar visualizações, o GIS também permite capturar, armazenar, analisar e gerenciar esses dados.'"
      ]
     },
     "execution_count": 6,
     "metadata": {},
     "output_type": "execute_result"
    }
   ],
   "source": [
    "# Visualizing\n",
    "chunks[0].page_content"
   ]
  },
  {
   "cell_type": "code",
   "execution_count": 7,
   "id": "0c6a00f6",
   "metadata": {},
   "outputs": [
    {
     "data": {
      "text/plain": [
       "True"
      ]
     },
     "execution_count": 7,
     "metadata": {},
     "output_type": "execute_result"
    }
   ],
   "source": [
    "# Create the Embedding and the QDrant clietn\n",
    "embeddings = HuggingFaceEmbeddings(model_name=EMBED_MODEL)\n",
    "qdrant = QdrantClient(host=QDRANT_HOST, port=QDRANT_PORT) # Via docker\n",
    "\n",
    "# Create a collection\n",
    "qdrant.create_collection(\n",
    "    collection_name=QDRANT_COLLECTION,\n",
    "    vectors_config=VectorParams(size=768, distance=Distance.COSINE) # Cosine Similarity\n",
    ")"
   ]
  },
  {
   "cell_type": "code",
   "execution_count": 8,
   "id": "0c0e46f4",
   "metadata": {},
   "outputs": [
    {
     "data": {
      "text/plain": [
       "['d99a119ab70445e683dbaabf6ae96255',\n",
       " '31a410b7f948462999b227226422d63d',\n",
       " 'c7c692bd9dce4b61bc52c7740dec39ce',\n",
       " 'c0687e47a2344202ac32e5b7d7750a71',\n",
       " '35bca2912b1d4aaca4298130d0c14fe2',\n",
       " '8cce53256ebf4ebcaea2dd6aa924d496',\n",
       " '48619484b66d4ed48e8b8267c6a51b87',\n",
       " '5d33ae8781da45c0a5db04ae459b1347',\n",
       " '22415ee3fb9b499a852fb11a0f483faa',\n",
       " 'a6985c0e73da4341a80066f0b4c58b2d',\n",
       " '2bcadd764f8e419bb581886bacdec532',\n",
       " 'acc4f564eaa04a39a7eaf6ef3ed27700',\n",
       " '70b6d30db0b44c658de3e1ee45bb7a23',\n",
       " 'cf261c97c0454fca979e5b5a85156b58',\n",
       " '22ef2d6ff85144a694edb7cb27de4948',\n",
       " '2ddb50c5144041039f8e33ae0a51207c',\n",
       " '0ecf2208f3f3478587d94d1453a0244d',\n",
       " '9d779efacbbb4977bc9f5aaddb560ee6',\n",
       " 'd1cb8d931cf4471c87091f3edc100837',\n",
       " '6c37f7eb98de4f60a3da131bbd603a73',\n",
       " '33c23558f2e3430c9639b940dc95c967',\n",
       " '3d1ec65aedd84d67a9a8dc61ceed7183',\n",
       " '2bca76924b884ec4b3ebe5a8ca6fa29d',\n",
       " 'be56344cc8aa44bbbd7ba297ae4b9f60',\n",
       " '765b9fa17d9c48c7a38cf54e8f27eca0',\n",
       " '8558063c829b41069fda7ceab9d9b2de',\n",
       " '9a52a7e91c8343aba3d20a593aa5ccaa',\n",
       " '5f17a8d90d7347ef96575d7aa14827fc']"
      ]
     },
     "execution_count": 8,
     "metadata": {},
     "output_type": "execute_result"
    }
   ],
   "source": [
    "# Store the data in the Vector Store from LangChain\n",
    "vector_store = QdrantVectorStore(\n",
    "    client=qdrant,\n",
    "    embedding=embeddings,\n",
    "    collection_name=QDRANT_COLLECTION\n",
    ")\n",
    "\n",
    "vector_store.add_documents(chunks)"
   ]
  },
  {
   "cell_type": "code",
   "execution_count": 9,
   "id": "018f1671",
   "metadata": {},
   "outputs": [
    {
     "data": {
      "text/plain": [
       "(Document(metadata={'source': 'https://www.ibm.com/br-pt/think/topics/geographic-information-system', '_id': 'd99a119a-b704-45e6-83db-aabf6ae96255', '_collection_name': 'naive-rag'}, page_content='O que é SIG (sistema de informação geográfica)?\\nSistemas de informação geográfica (GIS) são sistemas computacionais que produzem visualizações conectadas de dados geoespaciais, ou seja, dados referenciados espacialmente à Terra. Além de criar visualizações, o GIS também permite capturar, armazenar, analisar e gerenciar esses dados.'),\n",
       " 0.7807032)"
      ]
     },
     "execution_count": 9,
     "metadata": {},
     "output_type": "execute_result"
    }
   ],
   "source": [
    "# Fast example test\n",
    "query = \"O que é SIG?\"\n",
    "vector_store.similarity_search_with_relevance_scores(query=query, k=1)[0]"
   ]
  },
  {
   "cell_type": "code",
   "execution_count": 10,
   "id": "6854457e",
   "metadata": {},
   "outputs": [],
   "source": [
    "# Simple prompt template for RAG based\n",
    "template = PromptTemplate.from_template(\"\"\"\n",
    "Answer the query based on the context. If you don't know, just say you don't know.\n",
    "All answers must be in pt-BR.\n",
    "\n",
    "### CONTEXT:\n",
    "{context}\n",
    "\n",
    "### QUERY:\n",
    "{query}                 \n",
    "\"\"\")"
   ]
  },
  {
   "cell_type": "code",
   "execution_count": 11,
   "id": "8de7447a",
   "metadata": {},
   "outputs": [],
   "source": [
    "# Load the LLM from Groq\n",
    "llm = ChatGroq(\n",
    "    model=\"llama3-8b-8192\",\n",
    "    temperature=0.1\n",
    ")"
   ]
  },
  {
   "cell_type": "code",
   "execution_count": 12,
   "id": "256c1480",
   "metadata": {},
   "outputs": [],
   "source": [
    "# Query function\n",
    "def naive_rag_query(query: str) -> dict:\n",
    "    \"\"\"\n",
    "    Perform a query using the retriaval data as context.\n",
    "\n",
    "    args:\n",
    "        query: str: User query\n",
    "\n",
    "    returns:\n",
    "        A dict with output text and your relevance score.\n",
    "    \"\"\"\n",
    "    context = vector_store.similarity_search_with_relevance_scores(query=query, k=5)\n",
    "    # Filter to get only sentences with relevance score >= 0.7\n",
    "    context = list(filter(lambda x: x[1] >= 0.7, context)) # x[0]->Text, x[1]->Score\n",
    "\n",
    "    # i.e the query doesn't make sense in the context\n",
    "    if len(context) == 0:\n",
    "        return {\n",
    "            \"text\": \"\\nEu não sou capaz de responder a isso.\\n\",\n",
    "            \"score\": 0.0\n",
    "        }\n",
    "    \n",
    "    chain = template | llm | StrOutputParser()\n",
    "    response = chain.invoke({\"context\": context, \"query\": query})\n",
    "\n",
    "    return {\n",
    "        \"text\": \"\\n\" + response + \"\\n\",\n",
    "        \"score\": context[0][1]\n",
    "    }"
   ]
  },
  {
   "cell_type": "code",
   "execution_count": 13,
   "id": "5be25a4e",
   "metadata": {},
   "outputs": [
    {
     "name": "stdout",
     "output_type": "stream",
     "text": [
      "Text: \n",
      "Não sei.\n",
      "\n",
      "Score: 0.7249676899999999\n"
     ]
    }
   ],
   "source": [
    "# Unsatisfied\n",
    "response_1 = naive_rag_query(query=\"Que horas são?\")\n",
    "\n",
    "print(f\"Text: {response_1.get('text')}\")\n",
    "print(f\"Score: {response_1.get('score')}\")"
   ]
  },
  {
   "cell_type": "code",
   "execution_count": 14,
   "id": "089f140c",
   "metadata": {},
   "outputs": [
    {
     "name": "stdout",
     "output_type": "stream",
     "text": [
      "Text: \n",
      "Um sistema de informação geográfica (SIG) é um sistema computacional que produz visualizações conectadas de dados geoespaciais, ou seja, dados referenciados espacialmente à Terra. Além de criar visualizações, o SIG também permite capturar, armazenar, analisar e gerenciar esses dados.\n",
      "\n",
      "Score: 0.7807032\n"
     ]
    }
   ],
   "source": [
    "# Satisfied\n",
    "response_2 = naive_rag_query(query=\"O que é SIG?\")\n",
    "\n",
    "print(f\"Text: {response_2.get('text')}\")\n",
    "print(f\"Score: {response_2.get('score')}\")"
   ]
  },
  {
   "cell_type": "code",
   "execution_count": 15,
   "id": "9c775304",
   "metadata": {},
   "outputs": [
    {
     "name": "stdout",
     "output_type": "stream",
     "text": [
      "Text: \n",
      "A sobreposição não é mencionada explicitamente no contexto fornecido. Portanto, não tenho conhecimento sobre a sobreposição no contexto de um sistema de informação geográfica (GIS).\n",
      "\n",
      "Score: 0.7267544\n"
     ]
    }
   ],
   "source": [
    "# Satisfied\n",
    "response_3 = naive_rag_query(query=\"Me fale sobre a sobreposição.\")\n",
    "\n",
    "print(f\"Text: {response_3.get('text')}\")\n",
    "print(f\"Score: {response_3.get('score')}\")"
   ]
  },
  {
   "cell_type": "code",
   "execution_count": 16,
   "id": "4c979c51",
   "metadata": {},
   "outputs": [
    {
     "name": "stdout",
     "output_type": "stream",
     "text": [
      "Text: \n",
      "O sensoriamento remoto é um processo que coleta dados geoespaciais e realiza medições da superfície terrestre a partir do alto, utilizando sensores em satélites, balões, drones e aviões para captar e registrar a energia refletida ou emitida. Existem dois tipos de detecção remota: ativa e passiva. O sensoriamento remoto ativo utiliza sensores que emitem sua própria fonte de energia ou luz e detectam a radiação refletida, enquanto o sensoriamento remoto passivo não emite energia própria e coleta a radiação natural emitida e refletida.\n",
      "\n",
      "Score: 0.8150071999999999\n"
     ]
    }
   ],
   "source": [
    "# Satisfied\n",
    "response_4 = naive_rag_query(query=\"Me fale sobre sensoriamento remoto.\")\n",
    "\n",
    "print(f\"Text: {response_4.get('text')}\")\n",
    "print(f\"Score: {response_4.get('score')}\")"
   ]
  }
 ],
 "metadata": {
  "kernelspec": {
   "display_name": "langchain-naive-RAG",
   "language": "python",
   "name": "python3"
  },
  "language_info": {
   "codemirror_mode": {
    "name": "ipython",
    "version": 3
   },
   "file_extension": ".py",
   "mimetype": "text/x-python",
   "name": "python",
   "nbconvert_exporter": "python",
   "pygments_lexer": "ipython3",
   "version": "3.12.11"
  }
 },
 "nbformat": 4,
 "nbformat_minor": 5
}
